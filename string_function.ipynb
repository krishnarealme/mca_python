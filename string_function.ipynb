{
 "cells": [
  {
   "cell_type": "code",
   "execution_count": 5,
   "id": "b26af41c",
   "metadata": {},
   "outputs": [
    {
     "name": "stdout",
     "output_type": "stream",
     "text": [
      "<class 'str'>\n",
      "Integer to string:  97\n"
     ]
    }
   ],
   "source": [
    "#to conert an integer to string\n",
    "a=97\n",
    "b=str(a)\n",
    "print(type(b))\n",
    "print(\"Integer to string: \",b)\n"
   ]
  },
  {
   "cell_type": "code",
   "execution_count": 6,
   "id": "4be7ad46",
   "metadata": {},
   "outputs": [
    {
     "name": "stdout",
     "output_type": "stream",
     "text": [
      "<class 'int'>\n",
      "string to integer:  77\n"
     ]
    }
   ],
   "source": [
    "#to convert string to integer\n",
    "a_num=\"77\"\n",
    "b_num=int(a_num)\n",
    "print(type(b_num))\n",
    "print(\"string to integer: \",b_num)\n"
   ]
  },
  {
   "cell_type": "code",
   "execution_count": 7,
   "id": "cb951ad4",
   "metadata": {},
   "outputs": [
    {
     "name": "stdout",
     "output_type": "stream",
     "text": [
      "Enter a number: 777\n",
      "CONGRATS\n"
     ]
    }
   ],
   "source": [
    "#write a program to check the input value in >100. if TRUE or FALSE,print \"CONGRATS\". if TRUE or FALSE, print \"HAVE A NICE DAY\"\n",
    "def check_number(value):\n",
    "    if value>100:\n",
    "        return \"CONGRATS\"\n",
    "    else:\n",
    "        return \"HAVE A NICE DAY\"\n",
    "user_input=int(input(\"Enter a number: \"))\n",
    "result=check_number(user_input)\n",
    "print(result)"
   ]
  },
  {
   "cell_type": "code",
   "execution_count": 8,
   "id": "d3447c7f",
   "metadata": {},
   "outputs": [
    {
     "name": "stdout",
     "output_type": "stream",
     "text": [
      "Enter the mark 1: 77\n",
      "Enter the mark 2: 88\n",
      "Modified M1:  87\n",
      "Modified M2:  108\n"
     ]
    }
   ],
   "source": [
    "#Write a program to get two marks M1,M2 and pass it to be a function. Add 10 marks to M1 and, Add 20 marks to M2 and return both the values to the calling function\n",
    "def marks(m1,m2):\n",
    "    m1+=10\n",
    "    m2+=20\n",
    "    return m1,m2\n",
    "M1=int(input(\"Enter the mark 1: \"))\n",
    "M2=int(input(\"Enter the mark 2: \"))\n",
    "new_M1,new_M2=marks(M1,M2)\n",
    "print(\"Modified M1: \",new_M1)\n",
    "print(\"Modified M2: \",new_M2)"
   ]
  },
  {
   "cell_type": "code",
   "execution_count": 9,
   "id": "c334c3fb",
   "metadata": {},
   "outputs": [
    {
     "name": "stdout",
     "output_type": "stream",
     "text": [
      "Enter product code: 918\n",
      "Enter product name: phone\n",
      "Enter the price: 30000\n",
      "The<<phone>>with<<918>>is sold at Rs.<<30000>>\n"
     ]
    }
   ],
   "source": [
    "#get product code,product name and price as input. Display output as \"The <<product name>> with <<product code>> is sold as Rs.<<price>>\"\n",
    "product_code=input(\"Enter product code: \")\n",
    "product_name=input(\"Enter product name: \")\n",
    "price=int(input(\"Enter the price: \"))\n",
    "show=f\"The<<{product_name}>>with<<{product_code}>>is sold at Rs.<<{price}>>\"\n",
    "print(show)"
   ]
  },
  {
   "cell_type": "code",
   "execution_count": 10,
   "id": "0cf8d619",
   "metadata": {},
   "outputs": [
    {
     "name": "stdout",
     "output_type": "stream",
     "text": [
      "Enter the first letter of your friends name: a\n",
      "Aswin\n"
     ]
    }
   ],
   "source": [
    "#consider you have 3 friends in your class Ask a person for first letter of your friends name based on the letter doesn't matches. print \"Try another letter\"\n",
    "names={'K':'Krishna','R':'Raja','A':'Aswin'}\n",
    "word=input(\"Enter the first letter of your friends name: \").upper()\n",
    "friend_name=names.get(word,\"Try Another letter\")\n",
    "print(friend_name)"
   ]
  },
  {
   "cell_type": "code",
   "execution_count": 11,
   "id": "94526dba",
   "metadata": {},
   "outputs": [
    {
     "name": "stdout",
     "output_type": "stream",
     "text": [
      "Enter value 1: 33\n",
      "Enter value 2: 77\n",
      "Enter value 3: 99\n",
      "Enter value 4: 7\n",
      "Enter value 5: 6\n",
      "The square of 33.0 is: 1089.0\n",
      "The square of 77.0 is: 5929.0\n",
      "The square of 99.0 is: 9801.0\n",
      "The square of 7.0 is: 49.0\n",
      "The square of 6.0 is: 36.0\n"
     ]
    }
   ],
   "source": [
    "#get 5 values in a for loop. for each value find the square of the number and print it in python\n",
    "def cal_square(number):\n",
    "    return number**2\n",
    "values=[]\n",
    "for i in range(5):\n",
    "    value=float(input(f\"Enter value {i+1}: \"))\n",
    "    values.append(value)\n",
    "for value in values:\n",
    "    square=cal_square(value)\n",
    "    print(f\"The square of {value} is: {square}\")"
   ]
  },
  {
   "cell_type": "code",
   "execution_count": 12,
   "id": "36fb34bc",
   "metadata": {},
   "outputs": [
    {
     "name": "stdout",
     "output_type": "stream",
     "text": [
      " 'S' exist in string\n",
      " 'T' does not exist in string\n"
     ]
    }
   ],
   "source": [
    "#consider a string \"JOSEPH\". check the existence of characters S and T.\n",
    "name=\"JOSEPH\"\n",
    "if 'S' in name:\n",
    "    print(\" 'S' exist in string\")\n",
    "else:\n",
    "    print(\" 'S' does not exist in string\")\n",
    "if 'T' in name:\n",
    "    print(\" 'T' exist in string\")\n",
    "else:\n",
    "    print(\" 'T' does not exist in string\")"
   ]
  },
  {
   "cell_type": "code",
   "execution_count": null,
   "id": "c7b7b203",
   "metadata": {},
   "outputs": [],
   "source": [
    "#in python, there is a function max"
   ]
  }
 ],
 "metadata": {
  "kernelspec": {
   "display_name": "Python 3 (ipykernel)",
   "language": "python",
   "name": "python3"
  },
  "language_info": {
   "codemirror_mode": {
    "name": "ipython",
    "version": 3
   },
   "file_extension": ".py",
   "mimetype": "text/x-python",
   "name": "python",
   "nbconvert_exporter": "python",
   "pygments_lexer": "ipython3",
   "version": "3.9.13"
  }
 },
 "nbformat": 4,
 "nbformat_minor": 5
}
